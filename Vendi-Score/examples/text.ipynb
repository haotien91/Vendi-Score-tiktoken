{
 "cells": [
  {
   "cell_type": "code",
   "execution_count": 1,
   "id": "931cbb6d",
   "metadata": {},
   "outputs": [],
   "source": [
    "import os\n",
    "os.chdir(\"/n/fs/nlp-df22/project/diversity/clean\")"
   ]
  },
  {
   "cell_type": "code",
   "execution_count": 2,
   "id": "b0026c7e",
   "metadata": {},
   "outputs": [],
   "source": [
    "import importlib\n",
    "import random\n",
    "\n",
    "import datasets\n",
    "from matplotlib import pyplot as plt\n",
    "import numpy as np\n",
    "import scipy.sparse\n",
    "from scipy.stats import spearmanr\n",
    "from scipy.stats import pearsonr\n",
    "from sklearn.feature_extraction.text import CountVectorizer\n",
    "from sklearn.preprocessing import normalize\n",
    "import torch\n",
    "from torch import nn\n",
    "from torchvision.models import inception_v3\n",
    "import torchvision\n",
    "\n",
    "from transformers import AutoModel, AutoTokenizer"
   ]
  },
  {
   "cell_type": "code",
   "execution_count": 3,
   "id": "fa02e580",
   "metadata": {},
   "outputs": [],
   "source": [
    "from vendi_score import vendi, data_utils, text_utils"
   ]
  },
  {
   "cell_type": "markdown",
   "id": "fb779cba",
   "metadata": {},
   "source": [
    "### Load data"
   ]
  },
  {
   "cell_type": "markdown",
   "id": "5cd19c2c",
   "metadata": {},
   "source": [
    "Load the MultiNLI dataset. Each example is stored in a utility class called `data_utils.Example` to keep track of features and metadata. The string is stored in `example.x`."
   ]
  },
  {
   "cell_type": "code",
   "execution_count": 4,
   "id": "8f5b9a11",
   "metadata": {},
   "outputs": [
    {
     "name": "stderr",
     "output_type": "stream",
     "text": [
      "Using custom data configuration default\n",
      "Reusing dataset multi_nli (/n/fs/nlp-df22/.cache/hf/datasets/multi_nli/default/0.0.0/591f72eb6263d1ab527561777936b199b714cda156d35716881158a2bd144f39)\n",
      "Using custom data configuration default\n",
      "Reusing dataset multi_nli (/n/fs/nlp-df22/.cache/hf/datasets/multi_nli/default/0.0.0/591f72eb6263d1ab527561777936b199b714cda156d35716881158a2bd144f39)\n"
     ]
    },
    {
     "name": "stdout",
     "output_type": "stream",
     "text": [
      "6669\n"
     ]
    }
   ],
   "source": [
    "mnli_examples = text_utils.get_mnli()\n",
    "print(len(mnli_examples))"
   ]
  },
  {
   "cell_type": "code",
   "execution_count": 5,
   "id": "b27ec824",
   "metadata": {},
   "outputs": [
    {
     "name": "stdout",
     "output_type": "stream",
     "text": [
      "Sentence: This site includes a list of all award winners and a searchable database of Government Executive articles.\n",
      "Genre: government\n"
     ]
    }
   ],
   "source": [
    "e = mnli_examples[1]\n",
    "print(\"Sentence:\", e.x)\n",
    "print(\"Genre:\", e.labels[\"y\"])"
   ]
  },
  {
   "cell_type": "markdown",
   "id": "9ca425ca",
   "metadata": {},
   "source": [
    "### Which MultiNLI categories are most diverse?"
   ]
  },
  {
   "cell_type": "markdown",
   "id": "a7a58b40",
   "metadata": {},
   "source": [
    "We'll see which MultiNLI genres get the highest and lowest diversity scores using three different similarity scores: an n-gram overlap score, and the cosine similarity between neural network embeddings."
   ]
  },
  {
   "cell_type": "code",
   "execution_count": 6,
   "id": "bfae11b7",
   "metadata": {},
   "outputs": [
    {
     "name": "stdout",
     "output_type": "stream",
     "text": [
      "facetoface 667\n",
      "fiction 666\n",
      "government 667\n",
      "letters 667\n",
      "nineeleven 667\n",
      "oup 667\n",
      "slate 667\n",
      "telephone 667\n",
      "travel 667\n",
      "verbatim 667\n"
     ]
    }
   ],
   "source": [
    "categories = sorted(set(e.labels[\"y\"] for e in mnli_examples))\n",
    "category_groups = {c: data_utils.Group(c, []) for c in categories}\n",
    "for e in mnli_examples:\n",
    "    category_groups[e.labels[\"y\"]].examples.append(e)\n",
    "groups = list(category_groups.values())\n",
    "for g in groups:\n",
    "    print(g.name, len(g.examples))"
   ]
  },
  {
   "cell_type": "code",
   "execution_count": 7,
   "id": "33757ae1",
   "metadata": {},
   "outputs": [],
   "source": [
    "tokenizer = text_utils.get_tokenizer()"
   ]
  },
  {
   "cell_type": "code",
   "execution_count": 8,
   "id": "ff12f191",
   "metadata": {},
   "outputs": [],
   "source": [
    "for group in groups:\n",
    "    sents = [e.x for e in group.examples]\n",
    "    for n in (1, 2, 3, 4):\n",
    "        X = text_utils.get_ngrams(sents, n=n, tokenizer=tokenizer)\n",
    "        group.features[f\"{n}-grams\"] = X = normalize(X, axis=1)\n",
    "        group.Ks[f\"{n}-grams\"] = K = (X @ X.T).toarray()\n",
    "        group.metrics[f\"{n}-grams/VS\"] = vendi.score_K(K)\n",
    "    group.Ks[f\"N-grams\"] = K = np.stack([group.Ks[f\"{n}-grams\"] for n in (1, 2, 3, 4)], 0).mean(0)\n",
    "    group.metrics[f\"N-grams/VS\"] = vendi.score_K(K)"
   ]
  },
  {
   "cell_type": "code",
   "execution_count": 11,
   "id": "40d93ecf",
   "metadata": {},
   "outputs": [],
   "source": [
    "device = torch.device(\"cuda\") if torch.cuda.is_available() else torch.device(\"cpu\")\n",
    "\n",
    "models = [(\"Unsupervised SimCSE\", \"princeton-nlp/unsup-simcse-roberta-base\"),\n",
    "          (\"Supervised SimCSE\", \"princeton-nlp/sup-simcse-roberta-base\")]\n",
    "\n",
    "for name, path in models:\n",
    "    tok = AutoTokenizer.from_pretrained(path, use_fast=True)\n",
    "    model = AutoModel.from_pretrained(path).eval().to(device)\n",
    "    for group in groups:\n",
    "        group.features[name] = X = text_utils.get_embeddings(\n",
    "            [e.x for e in group.examples], model=model, tokenizer=tok\n",
    "        )\n",
    "        group.metrics[f\"{name}/vNd\"] = vendi.score_X(X)"
   ]
  },
  {
   "cell_type": "code",
   "execution_count": 9,
   "id": "a50bd546",
   "metadata": {},
   "outputs": [
    {
     "data": {
      "text/markdown": [
       "Genre|1-grams/VS|2-grams/VS|3-grams/VS|4-grams/VS|N-grams/VS\n",
       ":---|:---:|:---:|:---:|:---:|---:\n",
       "**group.name**|81.63|450.16|640.18|660.79|444.22\n",
       "**group.name**|124.92|486.68|646.09|662.97|480.25\n",
       "**group.name**|145.90|567.07|662.44|659.10|509.44\n",
       "**group.name**|132.63|526.48|650.47|658.66|492.76\n",
       "**group.name**|115.31|503.75|646.33|660.02|473.13\n",
       "**group.name**|130.41|570.27|662.80|666.05|503.95\n",
       "**group.name**|156.99|559.31|665.21|666.81|515.68\n",
       "**group.name**|102.41|542.52|646.15|661.59|491.45\n",
       "**group.name**|127.80|559.69|664.05|666.34|495.21\n",
       "**group.name**|131.80|574.74|661.15|666.06|506.97"
      ],
      "text/plain": [
       "<IPython.core.display.Markdown object>"
      ]
     },
     "metadata": {},
     "output_type": "display_data"
    }
   ],
   "source": [
    "from vendi_score import notebook_utils\n",
    "\n",
    "rows = []\n",
    "keys = sorted(groups[0].metrics.keys())\n",
    "for group in groups:\n",
    "    row = [f\"group.name\"] + [f\"{group.metrics[k]:.02f}\" for k in keys]\n",
    "    rows.append(row)\n",
    "notebook_utils.markdown_table([\"Genre\"] + keys, rows)"
   ]
  },
  {
   "cell_type": "code",
   "execution_count": 10,
   "id": "c7fbc0de",
   "metadata": {},
   "outputs": [
    {
     "data": {
      "text/markdown": [
       "Genre|1-grams/VS|2-grams/VS|3-grams/VS|4-grams/VS|N-grams/VS\n",
       ":---|:---:|:---:|:---:|:---:|---:\n",
       "**facetoface**|9|9|9|6|9\n",
       "**fiction**|6|8|8|4|7\n",
       "**government**|1|2|3|8|1\n",
       "**letters**|2|6|5|9|5\n",
       "**nineeleven**|7|7|6|7|8\n",
       "**oup**|4|1|2|3|3\n",
       "**slate**|0|4|0|0|0\n",
       "**telephone**|8|5|7|5|6\n",
       "**travel**|5|3|1|1|4\n",
       "**verbatim**|3|0|4|2|2"
      ],
      "text/plain": [
       "<IPython.core.display.Markdown object>"
      ]
     },
     "metadata": {},
     "output_type": "display_data"
    }
   ],
   "source": [
    "rows = []\n",
    "keys = sorted(groups[0].metrics.keys())\n",
    "ranks = {}\n",
    "for key in keys:\n",
    "    order = list(np.argsort(-np.array([g.metrics[key] for g in groups])))\n",
    "    ranks[key] = [order.index(i) for i in range(len(order))]\n",
    "for i, group in enumerate(groups):\n",
    "    row = [group.name] + [f\"{ranks[k][i]}\" for k in keys]\n",
    "    rows.append(row)\n",
    "notebook_utils.markdown_table([\"Genre\"] + keys, rows)"
   ]
  },
  {
   "cell_type": "markdown",
   "id": "a3e60ced",
   "metadata": {},
   "source": [
    "### Detecting mode dropping"
   ]
  },
  {
   "cell_type": "markdown",
   "id": "47cec893",
   "metadata": {},
   "source": [
    "We'll create a mode dropping scenario by sampling 10 datasets, $S_1, \\ldots, S_{10}$, each $S_i$ containing 500 sentences selected uniformly from the first $i$ categories. The Vendi score is compared to IntDiv: $\\mathrm{IntDiv}(K) = 1 - \\frac{1}{n^2}\\sum_{i, j}K_{ij}$ for an $n \\times n$ similarity matrix $K$."
   ]
  },
  {
   "cell_type": "code",
   "execution_count": 11,
   "id": "bb749424",
   "metadata": {},
   "outputs": [],
   "source": [
    "tokenizer = text_utils.get_tokenizer()"
   ]
  },
  {
   "cell_type": "code",
   "execution_count": 12,
   "id": "19f2f81a",
   "metadata": {},
   "outputs": [],
   "source": [
    "random.seed(0)\n",
    "cats = sorted(categories)\n",
    "label_to_examples = {group.name: group.examples for group in category_groups.values()}\n",
    "mode_dropping_groups = data_utils.mode_dropping_groups(label_to_examples, cats, N=500)"
   ]
  },
  {
   "cell_type": "code",
   "execution_count": 13,
   "id": "bd4b7b3d",
   "metadata": {},
   "outputs": [],
   "source": [
    "for group in mode_dropping_groups:\n",
    "    sents = [e.x for e in group.examples]\n",
    "    for n in (1, 2, 3, 4):\n",
    "        X = text_utils.get_ngrams(sents, n=n, tokenizer=tokenizer, binary=True)\n",
    "        group.features[f\"{n}-grams\"] = X = normalize(X, axis=1)\n",
    "        group.Ks[f\"{n}-grams\"] = K = (X @ X.T).toarray()\n",
    "        group.metrics[f\"{n}-grams/VS\"] = vendi.score_K(K)\n",
    "        group.metrics[f\"{n}-grams/IntDiv\"] = vendi.intdiv_K(K)\n",
    "    group.Ks[f\"N-grams\"] = K = np.stack([group.Ks[f\"{n}-grams\"] for n in (1, 2, 3, 4)], 0).mean(0)\n",
    "    group.metrics[f\"N-grams/VS\"] = vendi.score_K(K)\n",
    "    group.metrics[f\"N-grams/IntDiv\"] = vendi.intdiv_K(K)"
   ]
  },
  {
   "cell_type": "code",
   "execution_count": 14,
   "id": "725962b0",
   "metadata": {},
   "outputs": [],
   "source": [
    "for group in mode_dropping_groups:\n",
    "    sents = [e.x for e in group.examples]\n",
    "    group.metrics[\"N-gram diversity\"] = text_utils.ngram_diversity(sents, tokenizer=tokenizer)"
   ]
  },
  {
   "cell_type": "code",
   "execution_count": 16,
   "id": "fa5e9c24",
   "metadata": {},
   "outputs": [],
   "source": [
    "# for group in mode_dropping_groups:\n",
    "#     group.metrics[\"Self BLEU\"] = text_utils.self_bleu([e.x for e in group.examples], tokenizer)"
   ]
  },
  {
   "cell_type": "code",
   "execution_count": 17,
   "id": "f5072c65",
   "metadata": {},
   "outputs": [
    {
     "data": {
      "image/png": "[encoded data removed]",
      "text/plain": [
       "<Figure size 1152x288 with 3 Axes>"
      ]
     },
     "metadata": {
      "needs_background": "light"
     },
     "output_type": "display_data"
    }
   ],
   "source": [
    "fig, axes = plt.subplots(1, 3, figsize=(16, 4))\n",
    "\n",
    "for ax, metric in zip(axes, (\"N-grams/VS\", \"N-grams/IntDiv\", \"N-gram diversity\")):#, \"Self BLEU\")):\n",
    "    ax.set_title(metric)\n",
    "    ax.plot([g.name for g in mode_dropping_groups],\n",
    "            [g.metrics[metric] for g in mode_dropping_groups],\n",
    "            marker=\"o\")\n",
    "    xticks = [cats[0]] + [f\"+ {c}\" for c in cats[1:]]\n",
    "    ax.set_xticks([g.name for g in mode_dropping_groups])\n",
    "    ax.set_xticklabels(xticks, rotation=45)\n",
    "    \n",
    "plt.tight_layout()    \n",
    "plt.show()"
   ]
  },
  {
   "cell_type": "code",
   "execution_count": 18,
   "id": "465131e7",
   "metadata": {},
   "outputs": [],
   "source": [
    "SMALL_SIZE = 5\n",
    "MEDIUM_SIZE = 7\n",
    "BIGGER_SIZE = 9\n",
    "\n",
    "plt.rc('font', size=SMALL_SIZE)          # controls default text sizes\n",
    "plt.rc('axes', titlesize=MEDIUM_SIZE)     # fontsize of the axes title\n",
    "plt.rc('axes', labelsize=MEDIUM_SIZE)    # fontsize of the x and y labels\n",
    "plt.rc('xtick', labelsize=SMALL_SIZE)    # fontsize of the tick labels\n",
    "plt.rc('ytick', labelsize=SMALL_SIZE)    # fontsize of the tick labels\n",
    "plt.rc('legend', fontsize=SMALL_SIZE)    # legend fontsize\n",
    "plt.rc('figure', titlesize=BIGGER_SIZE)  # fontsize of the figure title\n",
    "#plt.rc('font', **{'family': 'serif', 'serif': ['Computer Modern']})\n",
    "plt.rc('text', usetex=False)"
   ]
  },
  {
   "cell_type": "code",
   "execution_count": 19,
   "id": "28116b69",
   "metadata": {},
   "outputs": [],
   "source": [
    "cmap = plt.cm.get_cmap(\"Set1\")\n",
    "colors = cmap.colors"
   ]
  },
  {
   "cell_type": "code",
   "execution_count": 20,
   "id": "7b664f25",
   "metadata": {},
   "outputs": [
    {
     "data": {
      "image/png": "[encoded data removed]",
      "text/plain": [
       "<Figure size 198x180 with 2 Axes>"
      ]
     },
     "metadata": {
      "needs_background": "light"
     },
     "output_type": "display_data"
    }
   ],
   "source": [
    "fig, axes = plt.subplots(2, 1, figsize=(2.75, 2.5), sharex=True)\n",
    "for i, (ax, metric) in enumerate(zip(axes, (\"VS\", \"IntDiv\"))):\n",
    "    #ax.set_title(metric)\n",
    "    for feature in (\"N-grams\",):\n",
    "        ax.plot([g.name for g in mode_dropping_groups],\n",
    "                [g.metrics[f\"{feature}/{metric}\"] for g in mode_dropping_groups],\n",
    "                marker=\"o\", color=colors[i], label=metric, markersize=5)\n",
    "                #label=feature.title())\n",
    "    xticks = [cats[0]] + [f\"+ {c}\" for c in cats[1:]]\n",
    "    ax.set_xticks([g.name for g in mode_dropping_groups])\n",
    "    #ax.set_xticklabels(xticks, rotation=45, horizontalalignment=\"right\", fontsize=7)\n",
    "    ax.set_xticklabels([g.name for g in mode_dropping_groups])\n",
    "    ax.legend()\n",
    "axes[1].set_xlabel(\"Number of classes\")    \n",
    "axes[0].set_title(\"MultiNLI\", size=9)\n",
    "plt.tight_layout()\n",
    "#fig.subplots_adjust(top=0.9)\n",
    "plt.savefig(\"mnli_modes.pdf\", dpi=300)\n",
    "plt.show()"
   ]
  },
  {
   "cell_type": "code",
   "execution_count": 75,
   "id": "4778c9aa",
   "metadata": {},
   "outputs": [
    {
     "name": "stdout",
     "output_type": "stream",
     "text": [
      "vNd SpearmanrResult(correlation=0.9999999999999999, pvalue=6.646897422032013e-64)\n",
      "IntDiv SpearmanrResult(correlation=0.9393939393939393, pvalue=5.484052998513666e-05)\n"
     ]
    }
   ],
   "source": [
    "feature = \"N-grams\"\n",
    "for metric in (\"vNd\", \"IntDiv\"):\n",
    "    x = [g.name for g in mode_dropping_groups]\n",
    "    y = [g.metrics[f\"{feature}/{metric}\"] for g in mode_dropping_groups]\n",
    "    print(metric, spearmanr(x, y))"
   ]
  },
  {
   "cell_type": "code",
   "execution_count": 77,
   "id": "a585deb0",
   "metadata": {},
   "outputs": [
    {
     "name": "stdout",
     "output_type": "stream",
     "text": [
      "vNd (0.8956426378289939, 0.0004566882392696715)\n",
      "IntDiv (0.9258867307280253, 0.00012061581342668988)\n"
     ]
    }
   ],
   "source": [
    "feature = \"N-grams\"\n",
    "for metric in (\"vNd\", \"IntDiv\"):\n",
    "    x = [g.name for g in mode_dropping_groups]\n",
    "    y = [g.metrics[f\"{feature}/{metric}\"] for g in mode_dropping_groups]\n",
    "    print(metric, pearsonr(x, y))"
   ]
  },
  {
   "cell_type": "code",
   "execution_count": null,
   "id": "0c7abb23",
   "metadata": {},
   "outputs": [],
   "source": []
  }
 ],
 "metadata": {
  "kernelspec": {
   "display_name": "Python 3 (ipykernel)",
   "language": "python",
   "name": "python3"
  },
  "language_info": {
   "codemirror_mode": {
    "name": "ipython",
    "version": 3
   },
   "file_extension": ".py",
   "mimetype": "text/x-python",
   "name": "python",
   "nbconvert_exporter": "python",
   "pygments_lexer": "ipython3",
   "version": "3.8.12"
  }
 },
 "nbformat": 4,
 "nbformat_minor": 5
}
